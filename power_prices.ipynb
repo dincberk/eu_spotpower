{
 "cells": [
  {
   "cell_type": "code",
   "execution_count": 1,
   "metadata": {},
   "outputs": [
    {
     "data": {
      "text/html": [
       "        <script type=\"text/javascript\">\n",
       "        window.PlotlyConfig = {MathJaxConfig: 'local'};\n",
       "        if (window.MathJax) {MathJax.Hub.Config({SVG: {font: \"STIX-Web\"}});}\n",
       "        if (typeof require !== 'undefined') {\n",
       "        require.undef(\"plotly\");\n",
       "        requirejs.config({\n",
       "            paths: {\n",
       "                'plotly': ['https://cdn.plot.ly/plotly-latest.min']\n",
       "            }\n",
       "        });\n",
       "        require(['plotly'], function(Plotly) {\n",
       "            window._Plotly = Plotly;\n",
       "        });\n",
       "        }\n",
       "        </script>\n",
       "        "
      ]
     },
     "metadata": {},
     "output_type": "display_data"
    },
    {
     "name": "stdout",
     "output_type": "stream",
     "text": [
      "Attachments are done\n"
     ]
    },
    {
     "data": {
      "text/html": [
       "<style type=\"text/css\">\n",
       "#T_50a29_row0_col0, #T_50a29_row0_col13, #T_50a29_row6_col9, #T_50a29_row6_col24 {\n",
       "  background-color: #842681;\n",
       "  color: #f1f1f1;\n",
       "}\n",
       "#T_50a29_row0_col1, #T_50a29_row1_col1, #T_50a29_row2_col3, #T_50a29_row3_col3, #T_50a29_row4_col3, #T_50a29_row5_col0, #T_50a29_row5_col1, #T_50a29_row5_col13, #T_50a29_row6_col1, #T_50a29_row7_col11 {\n",
       "  background-color: #fcfdbf;\n",
       "  color: #000000;\n",
       "}\n",
       "#T_50a29_row0_col2, #T_50a29_row0_col16 {\n",
       "  background-color: #020109;\n",
       "  color: #f1f1f1;\n",
       "}\n",
       "#T_50a29_row0_col3, #T_50a29_row1_col23 {\n",
       "  background-color: #d8456c;\n",
       "  color: #f1f1f1;\n",
       "}\n",
       "#T_50a29_row0_col4, #T_50a29_row6_col8 {\n",
       "  background-color: #651a80;\n",
       "  color: #f1f1f1;\n",
       "}\n",
       "#T_50a29_row0_col5, #T_50a29_row4_col14 {\n",
       "  background-color: #07061c;\n",
       "  color: #f1f1f1;\n",
       "}\n",
       "#T_50a29_row0_col6 {\n",
       "  background-color: #701f81;\n",
       "  color: #f1f1f1;\n",
       "}\n",
       "#T_50a29_row0_col7 {\n",
       "  background-color: #732081;\n",
       "  color: #f1f1f1;\n",
       "}\n",
       "#T_50a29_row0_col8 {\n",
       "  background-color: #471078;\n",
       "  color: #f1f1f1;\n",
       "}\n",
       "#T_50a29_row0_col9, #T_50a29_row0_col24, #T_50a29_row2_col8, #T_50a29_row6_col23 {\n",
       "  background-color: #6a1c81;\n",
       "  color: #f1f1f1;\n",
       "}\n",
       "#T_50a29_row0_col10, #T_50a29_row5_col17, #T_50a29_row5_col18, #T_50a29_row5_col19 {\n",
       "  background-color: #010005;\n",
       "  color: #f1f1f1;\n",
       "}\n",
       "#T_50a29_row0_col11, #T_50a29_row1_col8 {\n",
       "  background-color: #cc3f71;\n",
       "  color: #f1f1f1;\n",
       "}\n",
       "#T_50a29_row0_col12, #T_50a29_row1_col5, #T_50a29_row6_col16 {\n",
       "  background-color: #440f76;\n",
       "  color: #f1f1f1;\n",
       "}\n",
       "#T_50a29_row0_col14, #T_50a29_row1_col10, #T_50a29_row2_col10, #T_50a29_row3_col2, #T_50a29_row4_col10, #T_50a29_row5_col10, #T_50a29_row5_col14, #T_50a29_row6_col10, #T_50a29_row6_col14, #T_50a29_row7_col10, #T_50a29_row8_col0, #T_50a29_row8_col1, #T_50a29_row8_col2, #T_50a29_row8_col3, #T_50a29_row8_col4, #T_50a29_row8_col5, #T_50a29_row8_col6, #T_50a29_row8_col7, #T_50a29_row8_col8, #T_50a29_row8_col9, #T_50a29_row8_col10, #T_50a29_row8_col11, #T_50a29_row8_col12, #T_50a29_row8_col13, #T_50a29_row8_col14, #T_50a29_row8_col15, #T_50a29_row8_col16, #T_50a29_row8_col17, #T_50a29_row8_col18, #T_50a29_row8_col19, #T_50a29_row8_col20, #T_50a29_row8_col21, #T_50a29_row8_col22, #T_50a29_row8_col23, #T_50a29_row8_col24 {\n",
       "  background-color: #000004;\n",
       "  color: #f1f1f1;\n",
       "}\n",
       "#T_50a29_row0_col15 {\n",
       "  background-color: #621980;\n",
       "  color: #f1f1f1;\n",
       "}\n",
       "#T_50a29_row0_col17, #T_50a29_row0_col18, #T_50a29_row0_col19, #T_50a29_row3_col16 {\n",
       "  background-color: #010108;\n",
       "  color: #f1f1f1;\n",
       "}\n",
       "#T_50a29_row0_col20 {\n",
       "  background-color: #721f81;\n",
       "  color: #f1f1f1;\n",
       "}\n",
       "#T_50a29_row0_col21, #T_50a29_row7_col5 {\n",
       "  background-color: #752181;\n",
       "  color: #f1f1f1;\n",
       "}\n",
       "#T_50a29_row0_col22, #T_50a29_row6_col20 {\n",
       "  background-color: #6d1d81;\n",
       "  color: #f1f1f1;\n",
       "}\n",
       "#T_50a29_row0_col23 {\n",
       "  background-color: #6b1d81;\n",
       "  color: #f1f1f1;\n",
       "}\n",
       "#T_50a29_row1_col0, #T_50a29_row1_col13 {\n",
       "  background-color: #feae77;\n",
       "  color: #000000;\n",
       "}\n",
       "#T_50a29_row1_col2 {\n",
       "  background-color: #ba3878;\n",
       "  color: #f1f1f1;\n",
       "}\n",
       "#T_50a29_row1_col3, #T_50a29_row2_col11 {\n",
       "  background-color: #fcf9bb;\n",
       "  color: #000000;\n",
       "}\n",
       "#T_50a29_row1_col4, #T_50a29_row4_col6 {\n",
       "  background-color: #fa7d5e;\n",
       "  color: #f1f1f1;\n",
       "}\n",
       "#T_50a29_row1_col6, #T_50a29_row4_col21, #T_50a29_row7_col0, #T_50a29_row7_col13 {\n",
       "  background-color: #bd3977;\n",
       "  color: #f1f1f1;\n",
       "}\n",
       "#T_50a29_row1_col7, #T_50a29_row1_col15 {\n",
       "  background-color: #eb5760;\n",
       "  color: #f1f1f1;\n",
       "}\n",
       "#T_50a29_row1_col9, #T_50a29_row1_col24 {\n",
       "  background-color: #ee5b5e;\n",
       "  color: #f1f1f1;\n",
       "}\n",
       "#T_50a29_row1_col11 {\n",
       "  background-color: #fec68a;\n",
       "  color: #000000;\n",
       "}\n",
       "#T_50a29_row1_col12, #T_50a29_row3_col22 {\n",
       "  background-color: #b83779;\n",
       "  color: #f1f1f1;\n",
       "}\n",
       "#T_50a29_row1_col14 {\n",
       "  background-color: #100b2d;\n",
       "  color: #f1f1f1;\n",
       "}\n",
       "#T_50a29_row1_col16 {\n",
       "  background-color: #892881;\n",
       "  color: #f1f1f1;\n",
       "}\n",
       "#T_50a29_row1_col17, #T_50a29_row1_col18, #T_50a29_row1_col19 {\n",
       "  background-color: #1a1042;\n",
       "  color: #f1f1f1;\n",
       "}\n",
       "#T_50a29_row1_col20 {\n",
       "  background-color: #e34e65;\n",
       "  color: #f1f1f1;\n",
       "}\n",
       "#T_50a29_row1_col21 {\n",
       "  background-color: #e04c67;\n",
       "  color: #f1f1f1;\n",
       "}\n",
       "#T_50a29_row1_col22 {\n",
       "  background-color: #f1605d;\n",
       "  color: #f1f1f1;\n",
       "}\n",
       "#T_50a29_row2_col0, #T_50a29_row2_col13, #T_50a29_row3_col1, #T_50a29_row7_col16 {\n",
       "  background-color: #feb97f;\n",
       "  color: #000000;\n",
       "}\n",
       "#T_50a29_row2_col1 {\n",
       "  background-color: #fde5a7;\n",
       "  color: #000000;\n",
       "}\n",
       "#T_50a29_row2_col2, #T_50a29_row2_col16 {\n",
       "  background-color: #38106c;\n",
       "  color: #f1f1f1;\n",
       "}\n",
       "#T_50a29_row2_col4, #T_50a29_row4_col20 {\n",
       "  background-color: #bc3978;\n",
       "  color: #f1f1f1;\n",
       "}\n",
       "#T_50a29_row2_col5 {\n",
       "  background-color: #2f1163;\n",
       "  color: #f1f1f1;\n",
       "}\n",
       "#T_50a29_row2_col6 {\n",
       "  background-color: #451077;\n",
       "  color: #f1f1f1;\n",
       "}\n",
       "#T_50a29_row2_col7, #T_50a29_row2_col21 {\n",
       "  background-color: #a5317e;\n",
       "  color: #f1f1f1;\n",
       "}\n",
       "#T_50a29_row2_col9, #T_50a29_row2_col24, #T_50a29_row5_col22 {\n",
       "  background-color: #ae347b;\n",
       "  color: #f1f1f1;\n",
       "}\n",
       "#T_50a29_row2_col12 {\n",
       "  background-color: #a3307e;\n",
       "  color: #f1f1f1;\n",
       "}\n",
       "#T_50a29_row2_col14 {\n",
       "  background-color: #271258;\n",
       "  color: #f1f1f1;\n",
       "}\n",
       "#T_50a29_row2_col15 {\n",
       "  background-color: #982d80;\n",
       "  color: #f1f1f1;\n",
       "}\n",
       "#T_50a29_row2_col17, #T_50a29_row2_col18, #T_50a29_row2_col19 {\n",
       "  background-color: #341069;\n",
       "  color: #f1f1f1;\n",
       "}\n",
       "#T_50a29_row2_col20 {\n",
       "  background-color: #9e2f7f;\n",
       "  color: #f1f1f1;\n",
       "}\n",
       "#T_50a29_row2_col22, #T_50a29_row3_col7, #T_50a29_row3_col21 {\n",
       "  background-color: #ca3e72;\n",
       "  color: #f1f1f1;\n",
       "}\n",
       "#T_50a29_row2_col23, #T_50a29_row5_col9, #T_50a29_row5_col24 {\n",
       "  background-color: #942c80;\n",
       "  color: #f1f1f1;\n",
       "}\n",
       "#T_50a29_row3_col0, #T_50a29_row3_col13 {\n",
       "  background-color: #feac76;\n",
       "  color: #000000;\n",
       "}\n",
       "#T_50a29_row3_col4 {\n",
       "  background-color: #fb835f;\n",
       "  color: #f1f1f1;\n",
       "}\n",
       "#T_50a29_row3_col5 {\n",
       "  background-color: #0e0b2b;\n",
       "  color: #f1f1f1;\n",
       "}\n",
       "#T_50a29_row3_col6 {\n",
       "  background-color: #060518;\n",
       "  color: #f1f1f1;\n",
       "}\n",
       "#T_50a29_row3_col8 {\n",
       "  background-color: #21114e;\n",
       "  color: #f1f1f1;\n",
       "}\n",
       "#T_50a29_row3_col9, #T_50a29_row3_col24 {\n",
       "  background-color: #b73779;\n",
       "  color: #f1f1f1;\n",
       "}\n",
       "#T_50a29_row3_col10 {\n",
       "  background-color: #02020b;\n",
       "  color: #f1f1f1;\n",
       "}\n",
       "#T_50a29_row3_col11, #T_50a29_row7_col1 {\n",
       "  background-color: #fed799;\n",
       "  color: #000000;\n",
       "}\n",
       "#T_50a29_row3_col12 {\n",
       "  background-color: #d0416f;\n",
       "  color: #f1f1f1;\n",
       "}\n",
       "#T_50a29_row3_col14 {\n",
       "  background-color: #02020d;\n",
       "  color: #f1f1f1;\n",
       "}\n",
       "#T_50a29_row3_col15 {\n",
       "  background-color: #882781;\n",
       "  color: #f1f1f1;\n",
       "}\n",
       "#T_50a29_row3_col17, #T_50a29_row3_col18, #T_50a29_row3_col19 {\n",
       "  background-color: #0a0822;\n",
       "  color: #f1f1f1;\n",
       "}\n",
       "#T_50a29_row3_col20, #T_50a29_row4_col12 {\n",
       "  background-color: #cf4070;\n",
       "  color: #f1f1f1;\n",
       "}\n",
       "#T_50a29_row3_col23, #T_50a29_row7_col14 {\n",
       "  background-color: #8c2981;\n",
       "  color: #f1f1f1;\n",
       "}\n",
       "#T_50a29_row4_col0, #T_50a29_row4_col13, #T_50a29_row5_col7, #T_50a29_row5_col21 {\n",
       "  background-color: #b5367a;\n",
       "  color: #f1f1f1;\n",
       "}\n",
       "#T_50a29_row4_col1 {\n",
       "  background-color: #fec185;\n",
       "  color: #000000;\n",
       "}\n",
       "#T_50a29_row4_col2 {\n",
       "  background-color: #7e2482;\n",
       "  color: #f1f1f1;\n",
       "}\n",
       "#T_50a29_row4_col4 {\n",
       "  background-color: #fd9b6b;\n",
       "  color: #000000;\n",
       "}\n",
       "#T_50a29_row4_col5 {\n",
       "  background-color: #59157e;\n",
       "  color: #f1f1f1;\n",
       "}\n",
       "#T_50a29_row4_col7 {\n",
       "  background-color: #c23b75;\n",
       "  color: #f1f1f1;\n",
       "}\n",
       "#T_50a29_row4_col8 {\n",
       "  background-color: #862781;\n",
       "  color: #f1f1f1;\n",
       "}\n",
       "#T_50a29_row4_col9, #T_50a29_row4_col24 {\n",
       "  background-color: #f97b5d;\n",
       "  color: #f1f1f1;\n",
       "}\n",
       "#T_50a29_row4_col11 {\n",
       "  background-color: #febd82;\n",
       "  color: #000000;\n",
       "}\n",
       "#T_50a29_row4_col15 {\n",
       "  background-color: #b2357b;\n",
       "  color: #f1f1f1;\n",
       "}\n",
       "#T_50a29_row4_col16 {\n",
       "  background-color: #681c81;\n",
       "  color: #f1f1f1;\n",
       "}\n",
       "#T_50a29_row4_col17, #T_50a29_row4_col18, #T_50a29_row4_col19 {\n",
       "  background-color: #0c0926;\n",
       "  color: #f1f1f1;\n",
       "}\n",
       "#T_50a29_row4_col22 {\n",
       "  background-color: #df4a68;\n",
       "  color: #f1f1f1;\n",
       "}\n",
       "#T_50a29_row4_col23 {\n",
       "  background-color: #9c2e7f;\n",
       "  color: #f1f1f1;\n",
       "}\n",
       "#T_50a29_row5_col2, #T_50a29_row5_col16 {\n",
       "  background-color: #241253;\n",
       "  color: #f1f1f1;\n",
       "}\n",
       "#T_50a29_row5_col3 {\n",
       "  background-color: #fdebac;\n",
       "  color: #000000;\n",
       "}\n",
       "#T_50a29_row5_col4 {\n",
       "  background-color: #f9785d;\n",
       "  color: #f1f1f1;\n",
       "}\n",
       "#T_50a29_row5_col5 {\n",
       "  background-color: #57157e;\n",
       "  color: #f1f1f1;\n",
       "}\n",
       "#T_50a29_row5_col6, #T_50a29_row5_col20 {\n",
       "  background-color: #b3367a;\n",
       "  color: #f1f1f1;\n",
       "}\n",
       "#T_50a29_row5_col8 {\n",
       "  background-color: #4a1079;\n",
       "  color: #f1f1f1;\n",
       "}\n",
       "#T_50a29_row5_col11, #T_50a29_row7_col4, #T_50a29_row7_col6 {\n",
       "  background-color: #fde2a3;\n",
       "  color: #000000;\n",
       "}\n",
       "#T_50a29_row5_col12 {\n",
       "  background-color: #ec5860;\n",
       "  color: #f1f1f1;\n",
       "}\n",
       "#T_50a29_row5_col15 {\n",
       "  background-color: #912b81;\n",
       "  color: #f1f1f1;\n",
       "}\n",
       "#T_50a29_row5_col23 {\n",
       "  background-color: #932b80;\n",
       "  color: #f1f1f1;\n",
       "}\n",
       "#T_50a29_row6_col0, #T_50a29_row6_col13 {\n",
       "  background-color: #f7725c;\n",
       "  color: #f1f1f1;\n",
       "}\n",
       "#T_50a29_row6_col2 {\n",
       "  background-color: #5c167f;\n",
       "  color: #f1f1f1;\n",
       "}\n",
       "#T_50a29_row6_col3, #T_50a29_row7_col9, #T_50a29_row7_col15, #T_50a29_row7_col24 {\n",
       "  background-color: #fecc8f;\n",
       "  color: #000000;\n",
       "}\n",
       "#T_50a29_row6_col4 {\n",
       "  background-color: #febb81;\n",
       "  color: #000000;\n",
       "}\n",
       "#T_50a29_row6_col5 {\n",
       "  background-color: #3b0f70;\n",
       "  color: #f1f1f1;\n",
       "}\n",
       "#T_50a29_row6_col6 {\n",
       "  background-color: #feaa74;\n",
       "  color: #000000;\n",
       "}\n",
       "#T_50a29_row6_col7 {\n",
       "  background-color: #7b2382;\n",
       "  color: #f1f1f1;\n",
       "}\n",
       "#T_50a29_row6_col11 {\n",
       "  background-color: #fc8961;\n",
       "  color: #f1f1f1;\n",
       "}\n",
       "#T_50a29_row6_col12 {\n",
       "  background-color: #fb8761;\n",
       "  color: #f1f1f1;\n",
       "}\n",
       "#T_50a29_row6_col15, #T_50a29_row7_col17, #T_50a29_row7_col19 {\n",
       "  background-color: #802582;\n",
       "  color: #f1f1f1;\n",
       "}\n",
       "#T_50a29_row6_col17, #T_50a29_row6_col18, #T_50a29_row6_col19 {\n",
       "  background-color: #010106;\n",
       "  color: #f1f1f1;\n",
       "}\n",
       "#T_50a29_row6_col21 {\n",
       "  background-color: #6e1e81;\n",
       "  color: #f1f1f1;\n",
       "}\n",
       "#T_50a29_row6_col22 {\n",
       "  background-color: #c53c74;\n",
       "  color: #f1f1f1;\n",
       "}\n",
       "#T_50a29_row7_col2, #T_50a29_row7_col8 {\n",
       "  background-color: #fec88c;\n",
       "  color: #000000;\n",
       "}\n",
       "#T_50a29_row7_col3, #T_50a29_row7_col22 {\n",
       "  background-color: #fcf0b2;\n",
       "  color: #000000;\n",
       "}\n",
       "#T_50a29_row7_col7, #T_50a29_row7_col23 {\n",
       "  background-color: #fed395;\n",
       "  color: #000000;\n",
       "}\n",
       "#T_50a29_row7_col12 {\n",
       "  background-color: #f4675c;\n",
       "  color: #f1f1f1;\n",
       "}\n",
       "#T_50a29_row7_col18 {\n",
       "  background-color: #902a81;\n",
       "  color: #f1f1f1;\n",
       "}\n",
       "#T_50a29_row7_col20 {\n",
       "  background-color: #e44f64;\n",
       "  color: #f1f1f1;\n",
       "}\n",
       "#T_50a29_row7_col21 {\n",
       "  background-color: #d3436e;\n",
       "  color: #f1f1f1;\n",
       "}\n",
       "</style>\n",
       "<table id=\"T_50a29_\">\n",
       "  <thead>\n",
       "    <tr>\n",
       "      <th class=\"blank level0\" >&nbsp;</th>\n",
       "      <th class=\"col_heading level0 col0\" >ES</th>\n",
       "      <th class=\"col_heading level0 col1\" >FR</th>\n",
       "      <th class=\"col_heading level0 col2\" >DE_LU</th>\n",
       "      <th class=\"col_heading level0 col3\" >IT_CNOR</th>\n",
       "      <th class=\"col_heading level0 col4\" >NL</th>\n",
       "      <th class=\"col_heading level0 col5\" >PL</th>\n",
       "      <th class=\"col_heading level0 col6\" >BE</th>\n",
       "      <th class=\"col_heading level0 col7\" >HU</th>\n",
       "      <th class=\"col_heading level0 col8\" >CZ</th>\n",
       "      <th class=\"col_heading level0 col9\" >HR</th>\n",
       "      <th class=\"col_heading level0 col10\" >FI</th>\n",
       "      <th class=\"col_heading level0 col11\" >GR</th>\n",
       "      <th class=\"col_heading level0 col12\" >NO_1</th>\n",
       "      <th class=\"col_heading level0 col13\" >PT</th>\n",
       "      <th class=\"col_heading level0 col14\" >SE_4</th>\n",
       "      <th class=\"col_heading level0 col15\" >AT</th>\n",
       "      <th class=\"col_heading level0 col16\" >DK_1</th>\n",
       "      <th class=\"col_heading level0 col17\" >EE</th>\n",
       "      <th class=\"col_heading level0 col18\" >LT</th>\n",
       "      <th class=\"col_heading level0 col19\" >LV</th>\n",
       "      <th class=\"col_heading level0 col20\" >BG</th>\n",
       "      <th class=\"col_heading level0 col21\" >RO</th>\n",
       "      <th class=\"col_heading level0 col22\" >RS</th>\n",
       "      <th class=\"col_heading level0 col23\" >SK</th>\n",
       "      <th class=\"col_heading level0 col24\" >SI</th>\n",
       "    </tr>\n",
       "  </thead>\n",
       "  <tbody>\n",
       "    <tr>\n",
       "      <th id=\"T_50a29_level0_row0\" class=\"row_heading level0 row0\" >2022-04-04</th>\n",
       "      <td id=\"T_50a29_row0_col0\" class=\"data row0 col0\" >251.9</td>\n",
       "      <td id=\"T_50a29_row0_col1\" class=\"data row0 col1\" >551.4</td>\n",
       "      <td id=\"T_50a29_row0_col2\" class=\"data row0 col2\" >75.3</td>\n",
       "      <td id=\"T_50a29_row0_col3\" class=\"data row0 col3\" >348.9</td>\n",
       "      <td id=\"T_50a29_row0_col4\" class=\"data row0 col4\" >212.3</td>\n",
       "      <td id=\"T_50a29_row0_col5\" class=\"data row0 col5\" >91.2</td>\n",
       "      <td id=\"T_50a29_row0_col6\" class=\"data row0 col6\" >225.8</td>\n",
       "      <td id=\"T_50a29_row0_col7\" class=\"data row0 col7\" >230.4</td>\n",
       "      <td id=\"T_50a29_row0_col8\" class=\"data row0 col8\" >176.9</td>\n",
       "      <td id=\"T_50a29_row0_col9\" class=\"data row0 col9\" >217.9</td>\n",
       "      <td id=\"T_50a29_row0_col10\" class=\"data row0 col10\" >69.7</td>\n",
       "      <td id=\"T_50a29_row0_col11\" class=\"data row0 col11\" >334.4</td>\n",
       "      <td id=\"T_50a29_row0_col12\" class=\"data row0 col12\" >172.8</td>\n",
       "      <td id=\"T_50a29_row0_col13\" class=\"data row0 col13\" >251.4</td>\n",
       "      <td id=\"T_50a29_row0_col14\" class=\"data row0 col14\" >66.1</td>\n",
       "      <td id=\"T_50a29_row0_col15\" class=\"data row0 col15\" >209.6</td>\n",
       "      <td id=\"T_50a29_row0_col16\" class=\"data row0 col16\" >75.3</td>\n",
       "      <td id=\"T_50a29_row0_col17\" class=\"data row0 col17\" >72.4</td>\n",
       "      <td id=\"T_50a29_row0_col18\" class=\"data row0 col18\" >72.4</td>\n",
       "      <td id=\"T_50a29_row0_col19\" class=\"data row0 col19\" >72.4</td>\n",
       "      <td id=\"T_50a29_row0_col20\" class=\"data row0 col20\" >228.2</td>\n",
       "      <td id=\"T_50a29_row0_col21\" class=\"data row0 col21\" >232.7</td>\n",
       "      <td id=\"T_50a29_row0_col22\" class=\"data row0 col22\" >223.3</td>\n",
       "      <td id=\"T_50a29_row0_col23\" class=\"data row0 col23\" >220.4</td>\n",
       "      <td id=\"T_50a29_row0_col24\" class=\"data row0 col24\" >217.9</td>\n",
       "    </tr>\n",
       "    <tr>\n",
       "      <th id=\"T_50a29_level0_row1\" class=\"row_heading level0 row1\" >2022-04-05</th>\n",
       "      <td id=\"T_50a29_row1_col0\" class=\"data row1 col0\" >265.0</td>\n",
       "      <td id=\"T_50a29_row1_col1\" class=\"data row1 col1\" >308.3</td>\n",
       "      <td id=\"T_50a29_row1_col2\" class=\"data row1 col2\" >183.0</td>\n",
       "      <td id=\"T_50a29_row1_col3\" class=\"data row1 col3\" >305.4</td>\n",
       "      <td id=\"T_50a29_row1_col4\" class=\"data row1 col4\" >239.2</td>\n",
       "      <td id=\"T_50a29_row1_col5\" class=\"data row1 col5\" >109.0</td>\n",
       "      <td id=\"T_50a29_row1_col6\" class=\"data row1 col6\" >184.6</td>\n",
       "      <td id=\"T_50a29_row1_col7\" class=\"data row1 col7\" >216.8</td>\n",
       "      <td id=\"T_50a29_row1_col8\" class=\"data row1 col8\" >194.0</td>\n",
       "      <td id=\"T_50a29_row1_col9\" class=\"data row1 col9\" >220.2</td>\n",
       "      <td id=\"T_50a29_row1_col10\" class=\"data row1 col10\" >52.8</td>\n",
       "      <td id=\"T_50a29_row1_col11\" class=\"data row1 col11\" >278.1</td>\n",
       "      <td id=\"T_50a29_row1_col12\" class=\"data row1 col12\" >181.7</td>\n",
       "      <td id=\"T_50a29_row1_col13\" class=\"data row1 col13\" >265.0</td>\n",
       "      <td id=\"T_50a29_row1_col14\" class=\"data row1 col14\" >74.7</td>\n",
       "      <td id=\"T_50a29_row1_col15\" class=\"data row1 col15\" >217.3</td>\n",
       "      <td id=\"T_50a29_row1_col16\" class=\"data row1 col16\" >153.6</td>\n",
       "      <td id=\"T_50a29_row1_col17\" class=\"data row1 col17\" >83.4</td>\n",
       "      <td id=\"T_50a29_row1_col18\" class=\"data row1 col18\" >83.4</td>\n",
       "      <td id=\"T_50a29_row1_col19\" class=\"data row1 col19\" >83.4</td>\n",
       "      <td id=\"T_50a29_row1_col20\" class=\"data row1 col20\" >209.9</td>\n",
       "      <td id=\"T_50a29_row1_col21\" class=\"data row1 col21\" >208.5</td>\n",
       "      <td id=\"T_50a29_row1_col22\" class=\"data row1 col22\" >222.9</td>\n",
       "      <td id=\"T_50a29_row1_col23\" class=\"data row1 col23\" >202.5</td>\n",
       "      <td id=\"T_50a29_row1_col24\" class=\"data row1 col24\" >220.2</td>\n",
       "    </tr>\n",
       "    <tr>\n",
       "      <th id=\"T_50a29_level0_row2\" class=\"row_heading level0 row2\" >2022-04-06</th>\n",
       "      <td id=\"T_50a29_row2_col0\" class=\"data row2 col0\" >255.0</td>\n",
       "      <td id=\"T_50a29_row2_col1\" class=\"data row2 col1\" >274.4</td>\n",
       "      <td id=\"T_50a29_row2_col2\" class=\"data row2 col2\" >121.3</td>\n",
       "      <td id=\"T_50a29_row2_col3\" class=\"data row2 col3\" >284.7</td>\n",
       "      <td id=\"T_50a29_row2_col4\" class=\"data row2 col4\" >185.7</td>\n",
       "      <td id=\"T_50a29_row2_col5\" class=\"data row2 col5\" >117.4</td>\n",
       "      <td id=\"T_50a29_row2_col6\" class=\"data row2 col6\" >127.7</td>\n",
       "      <td id=\"T_50a29_row2_col7\" class=\"data row2 col7\" >174.6</td>\n",
       "      <td id=\"T_50a29_row2_col8\" class=\"data row2 col8\" >145.5</td>\n",
       "      <td id=\"T_50a29_row2_col9\" class=\"data row2 col9\" >180.1</td>\n",
       "      <td id=\"T_50a29_row2_col10\" class=\"data row2 col10\" >81.8</td>\n",
       "      <td id=\"T_50a29_row2_col11\" class=\"data row2 col11\" >282.9</td>\n",
       "      <td id=\"T_50a29_row2_col12\" class=\"data row2 col12\" >173.9</td>\n",
       "      <td id=\"T_50a29_row2_col13\" class=\"data row2 col13\" >255.0</td>\n",
       "      <td id=\"T_50a29_row2_col14\" class=\"data row2 col14\" >113.4</td>\n",
       "      <td id=\"T_50a29_row2_col15\" class=\"data row2 col15\" >168.4</td>\n",
       "      <td id=\"T_50a29_row2_col16\" class=\"data row2 col16\" >121.3</td>\n",
       "      <td id=\"T_50a29_row2_col17\" class=\"data row2 col17\" >119.1</td>\n",
       "      <td id=\"T_50a29_row2_col18\" class=\"data row2 col18\" >119.1</td>\n",
       "      <td id=\"T_50a29_row2_col19\" class=\"data row2 col19\" >119.1</td>\n",
       "      <td id=\"T_50a29_row2_col20\" class=\"data row2 col20\" >172.1</td>\n",
       "      <td id=\"T_50a29_row2_col21\" class=\"data row2 col21\" >174.6</td>\n",
       "      <td id=\"T_50a29_row2_col22\" class=\"data row2 col22\" >193.3</td>\n",
       "      <td id=\"T_50a29_row2_col23\" class=\"data row2 col23\" >167.3</td>\n",
       "      <td id=\"T_50a29_row2_col24\" class=\"data row2 col24\" >180.1</td>\n",
       "    </tr>\n",
       "    <tr>\n",
       "      <th id=\"T_50a29_level0_row3\" class=\"row_heading level0 row3\" >2022-04-07</th>\n",
       "      <td id=\"T_50a29_row3_col0\" class=\"data row3 col0\" >214.8</td>\n",
       "      <td id=\"T_50a29_row3_col1\" class=\"data row3 col1\" >219.5</td>\n",
       "      <td id=\"T_50a29_row3_col2\" class=\"data row3 col2\" >74.2</td>\n",
       "      <td id=\"T_50a29_row3_col3\" class=\"data row3 col3\" >244.6</td>\n",
       "      <td id=\"T_50a29_row3_col4\" class=\"data row3 col4\" >200.6</td>\n",
       "      <td id=\"T_50a29_row3_col5\" class=\"data row3 col5\" >87.6</td>\n",
       "      <td id=\"T_50a29_row3_col6\" class=\"data row3 col6\" >82.0</td>\n",
       "      <td id=\"T_50a29_row3_col7\" class=\"data row3 col7\" >168.0</td>\n",
       "      <td id=\"T_50a29_row3_col8\" class=\"data row3 col8\" >98.1</td>\n",
       "      <td id=\"T_50a29_row3_col9\" class=\"data row3 col9\" >159.9</td>\n",
       "      <td id=\"T_50a29_row3_col10\" class=\"data row3 col10\" >78.0</td>\n",
       "      <td id=\"T_50a29_row3_col11\" class=\"data row3 col11\" >230.3</td>\n",
       "      <td id=\"T_50a29_row3_col12\" class=\"data row3 col12\" >170.1</td>\n",
       "      <td id=\"T_50a29_row3_col13\" class=\"data row3 col13\" >214.8</td>\n",
       "      <td id=\"T_50a29_row3_col14\" class=\"data row3 col14\" >78.6</td>\n",
       "      <td id=\"T_50a29_row3_col15\" class=\"data row3 col15\" >140.2</td>\n",
       "      <td id=\"T_50a29_row3_col16\" class=\"data row3 col16\" >76.6</td>\n",
       "      <td id=\"T_50a29_row3_col17\" class=\"data row3 col17\" >85.1</td>\n",
       "      <td id=\"T_50a29_row3_col18\" class=\"data row3 col18\" >85.1</td>\n",
       "      <td id=\"T_50a29_row3_col19\" class=\"data row3 col19\" >85.1</td>\n",
       "      <td id=\"T_50a29_row3_col20\" class=\"data row3 col20\" >169.6</td>\n",
       "      <td id=\"T_50a29_row3_col21\" class=\"data row3 col21\" >168.0</td>\n",
       "      <td id=\"T_50a29_row3_col22\" class=\"data row3 col22\" >160.4</td>\n",
       "      <td id=\"T_50a29_row3_col23\" class=\"data row3 col23\" >142.7</td>\n",
       "      <td id=\"T_50a29_row3_col24\" class=\"data row3 col24\" >159.9</td>\n",
       "    </tr>\n",
       "    <tr>\n",
       "      <th id=\"T_50a29_level0_row4\" class=\"row_heading level0 row4\" >2022-04-08</th>\n",
       "      <td id=\"T_50a29_row4_col0\" class=\"data row4 col0\" >154.7</td>\n",
       "      <td id=\"T_50a29_row4_col1\" class=\"data row4 col1\" >248.1</td>\n",
       "      <td id=\"T_50a29_row4_col2\" class=\"data row4 col2\" >120.9</td>\n",
       "      <td id=\"T_50a29_row4_col3\" class=\"data row4 col3\" >281.6</td>\n",
       "      <td id=\"T_50a29_row4_col4\" class=\"data row4 col4\" >228.7</td>\n",
       "      <td id=\"T_50a29_row4_col5\" class=\"data row4 col5\" >97.0</td>\n",
       "      <td id=\"T_50a29_row4_col6\" class=\"data row4 col6\" >212.9</td>\n",
       "      <td id=\"T_50a29_row4_col7\" class=\"data row4 col7\" >162.1</td>\n",
       "      <td id=\"T_50a29_row4_col8\" class=\"data row4 col8\" >125.7</td>\n",
       "      <td id=\"T_50a29_row4_col9\" class=\"data row4 col9\" >211.9</td>\n",
       "      <td id=\"T_50a29_row4_col10\" class=\"data row4 col10\" >28.6</td>\n",
       "      <td id=\"T_50a29_row4_col11\" class=\"data row4 col11\" >247.0</td>\n",
       "      <td id=\"T_50a29_row4_col12\" class=\"data row4 col12\" >170.6</td>\n",
       "      <td id=\"T_50a29_row4_col13\" class=\"data row4 col13\" >154.7</td>\n",
       "      <td id=\"T_50a29_row4_col14\" class=\"data row4 col14\" >41.6</td>\n",
       "      <td id=\"T_50a29_row4_col15\" class=\"data row4 col15\" >152.5</td>\n",
       "      <td id=\"T_50a29_row4_col16\" class=\"data row4 col16\" >107.2</td>\n",
       "      <td id=\"T_50a29_row4_col17\" class=\"data row4 col17\" >47.0</td>\n",
       "      <td id=\"T_50a29_row4_col18\" class=\"data row4 col18\" >47.0</td>\n",
       "      <td id=\"T_50a29_row4_col19\" class=\"data row4 col19\" >47.0</td>\n",
       "      <td id=\"T_50a29_row4_col20\" class=\"data row4 col20\" >158.5</td>\n",
       "      <td id=\"T_50a29_row4_col21\" class=\"data row4 col21\" >159.2</td>\n",
       "      <td id=\"T_50a29_row4_col22\" class=\"data row4 col22\" >181.1</td>\n",
       "      <td id=\"T_50a29_row4_col23\" class=\"data row4 col23\" >140.0</td>\n",
       "      <td id=\"T_50a29_row4_col24\" class=\"data row4 col24\" >211.9</td>\n",
       "    </tr>\n",
       "    <tr>\n",
       "      <th id=\"T_50a29_level0_row5\" class=\"row_heading level0 row5\" >2022-04-09</th>\n",
       "      <td id=\"T_50a29_row5_col0\" class=\"data row5 col0\" >241.6</td>\n",
       "      <td id=\"T_50a29_row5_col1\" class=\"data row5 col1\" >241.6</td>\n",
       "      <td id=\"T_50a29_row5_col2\" class=\"data row5 col2\" >59.8</td>\n",
       "      <td id=\"T_50a29_row5_col3\" class=\"data row5 col3\" >232.7</td>\n",
       "      <td id=\"T_50a29_row5_col4\" class=\"data row5 col4\" >180.9</td>\n",
       "      <td id=\"T_50a29_row5_col5\" class=\"data row5 col5\" >85.4</td>\n",
       "      <td id=\"T_50a29_row5_col6\" class=\"data row5 col6\" >133.5</td>\n",
       "      <td id=\"T_50a29_row5_col7\" class=\"data row5 col7\" >134.7</td>\n",
       "      <td id=\"T_50a29_row5_col8\" class=\"data row5 col8\" >78.9</td>\n",
       "      <td id=\"T_50a29_row5_col9\" class=\"data row5 col9\" >118.1</td>\n",
       "      <td id=\"T_50a29_row5_col10\" class=\"data row5 col10\" >28.1</td>\n",
       "      <td id=\"T_50a29_row5_col11\" class=\"data row5 col11\" >228.9</td>\n",
       "      <td id=\"T_50a29_row5_col12\" class=\"data row5 col12\" >166.0</td>\n",
       "      <td id=\"T_50a29_row5_col13\" class=\"data row5 col13\" >241.6</td>\n",
       "      <td id=\"T_50a29_row5_col14\" class=\"data row5 col14\" >28.1</td>\n",
       "      <td id=\"T_50a29_row5_col15\" class=\"data row5 col15\" >116.5</td>\n",
       "      <td id=\"T_50a29_row5_col16\" class=\"data row5 col16\" >59.8</td>\n",
       "      <td id=\"T_50a29_row5_col17\" class=\"data row5 col17\" >29.8</td>\n",
       "      <td id=\"T_50a29_row5_col18\" class=\"data row5 col18\" >29.8</td>\n",
       "      <td id=\"T_50a29_row5_col19\" class=\"data row5 col19\" >29.8</td>\n",
       "      <td id=\"T_50a29_row5_col20\" class=\"data row5 col20\" >133.4</td>\n",
       "      <td id=\"T_50a29_row5_col21\" class=\"data row5 col21\" >134.7</td>\n",
       "      <td id=\"T_50a29_row5_col22\" class=\"data row5 col22\" >131.3</td>\n",
       "      <td id=\"T_50a29_row5_col23\" class=\"data row5 col23\" >117.1</td>\n",
       "      <td id=\"T_50a29_row5_col24\" class=\"data row5 col24\" >118.1</td>\n",
       "    </tr>\n",
       "    <tr>\n",
       "      <th id=\"T_50a29_level0_row6\" class=\"row_heading level0 row6\" >2022-04-10</th>\n",
       "      <td id=\"T_50a29_row6_col0\" class=\"data row6 col0\" >159.3</td>\n",
       "      <td id=\"T_50a29_row6_col1\" class=\"data row6 col1\" >217.9</td>\n",
       "      <td id=\"T_50a29_row6_col2\" class=\"data row6 col2\" >74.7</td>\n",
       "      <td id=\"T_50a29_row6_col3\" class=\"data row6 col3\" >196.2</td>\n",
       "      <td id=\"T_50a29_row6_col4\" class=\"data row6 col4\" >189.2</td>\n",
       "      <td id=\"T_50a29_row6_col5\" class=\"data row6 col5\" >59.3</td>\n",
       "      <td id=\"T_50a29_row6_col6\" class=\"data row6 col6\" >182.7</td>\n",
       "      <td id=\"T_50a29_row6_col7\" class=\"data row6 col7\" >90.2</td>\n",
       "      <td id=\"T_50a29_row6_col8\" class=\"data row6 col8\" >79.4</td>\n",
       "      <td id=\"T_50a29_row6_col9\" class=\"data row6 col9\" >94.5</td>\n",
       "      <td id=\"T_50a29_row6_col10\" class=\"data row6 col10\" >18.9</td>\n",
       "      <td id=\"T_50a29_row6_col11\" class=\"data row6 col11\" >168.2</td>\n",
       "      <td id=\"T_50a29_row6_col12\" class=\"data row6 col12\" >167.8</td>\n",
       "      <td id=\"T_50a29_row6_col13\" class=\"data row6 col13\" >159.3</td>\n",
       "      <td id=\"T_50a29_row6_col14\" class=\"data row6 col14\" >18.9</td>\n",
       "      <td id=\"T_50a29_row6_col15\" class=\"data row6 col15\" >92.0</td>\n",
       "      <td id=\"T_50a29_row6_col16\" class=\"data row6 col16\" >62.8</td>\n",
       "      <td id=\"T_50a29_row6_col17\" class=\"data row6 col17\" >20.6</td>\n",
       "      <td id=\"T_50a29_row6_col18\" class=\"data row6 col18\" >20.6</td>\n",
       "      <td id=\"T_50a29_row6_col19\" class=\"data row6 col19\" >20.6</td>\n",
       "      <td id=\"T_50a29_row6_col20\" class=\"data row6 col20\" >83.0</td>\n",
       "      <td id=\"T_50a29_row6_col21\" class=\"data row6 col21\" >83.6</td>\n",
       "      <td id=\"T_50a29_row6_col22\" class=\"data row6 col22\" >126.0</td>\n",
       "      <td id=\"T_50a29_row6_col23\" class=\"data row6 col23\" >81.7</td>\n",
       "      <td id=\"T_50a29_row6_col24\" class=\"data row6 col24\" >94.5</td>\n",
       "    </tr>\n",
       "    <tr>\n",
       "      <th id=\"T_50a29_level0_row7\" class=\"row_heading level0 row7\" >2022-04-11</th>\n",
       "      <td id=\"T_50a29_row7_col0\" class=\"data row7 col0\" >163.1</td>\n",
       "      <td id=\"T_50a29_row7_col1\" class=\"data row7 col1\" >229.0</td>\n",
       "      <td id=\"T_50a29_row7_col2\" class=\"data row7 col2\" >223.6</td>\n",
       "      <td id=\"T_50a29_row7_col3\" class=\"data row7 col3\" >238.2</td>\n",
       "      <td id=\"T_50a29_row7_col4\" class=\"data row7 col4\" >233.1</td>\n",
       "      <td id=\"T_50a29_row7_col5\" class=\"data row7 col5\" >133.4</td>\n",
       "      <td id=\"T_50a29_row7_col6\" class=\"data row7 col6\" >233.2</td>\n",
       "      <td id=\"T_50a29_row7_col7\" class=\"data row7 col7\" >227.6</td>\n",
       "      <td id=\"T_50a29_row7_col8\" class=\"data row7 col8\" >223.6</td>\n",
       "      <td id=\"T_50a29_row7_col9\" class=\"data row7 col9\" >225.3</td>\n",
       "      <td id=\"T_50a29_row7_col10\" class=\"data row7 col10\" >76.7</td>\n",
       "      <td id=\"T_50a29_row7_col11\" class=\"data row7 col11\" >243.1</td>\n",
       "      <td id=\"T_50a29_row7_col12\" class=\"data row7 col12\" >190.2</td>\n",
       "      <td id=\"T_50a29_row7_col13\" class=\"data row7 col13\" >163.1</td>\n",
       "      <td id=\"T_50a29_row7_col14\" class=\"data row7 col14\" >143.5</td>\n",
       "      <td id=\"T_50a29_row7_col15\" class=\"data row7 col15\" >225.2</td>\n",
       "      <td id=\"T_50a29_row7_col16\" class=\"data row7 col16\" >218.9</td>\n",
       "      <td id=\"T_50a29_row7_col17\" class=\"data row7 col17\" >138.3</td>\n",
       "      <td id=\"T_50a29_row7_col18\" class=\"data row7 col18\" >144.7</td>\n",
       "      <td id=\"T_50a29_row7_col19\" class=\"data row7 col19\" >138.3</td>\n",
       "      <td id=\"T_50a29_row7_col20\" class=\"data row7 col20\" >179.5</td>\n",
       "      <td id=\"T_50a29_row7_col21\" class=\"data row7 col21\" >172.0</td>\n",
       "      <td id=\"T_50a29_row7_col22\" class=\"data row7 col22\" >238.5</td>\n",
       "      <td id=\"T_50a29_row7_col23\" class=\"data row7 col23\" >227.6</td>\n",
       "      <td id=\"T_50a29_row7_col24\" class=\"data row7 col24\" >225.3</td>\n",
       "    </tr>\n",
       "    <tr>\n",
       "      <th id=\"T_50a29_level0_row8\" class=\"row_heading level0 row8\" >2022-04-12</th>\n",
       "      <td id=\"T_50a29_row8_col0\" class=\"data row8 col0\" >nan</td>\n",
       "      <td id=\"T_50a29_row8_col1\" class=\"data row8 col1\" >nan</td>\n",
       "      <td id=\"T_50a29_row8_col2\" class=\"data row8 col2\" >nan</td>\n",
       "      <td id=\"T_50a29_row8_col3\" class=\"data row8 col3\" >nan</td>\n",
       "      <td id=\"T_50a29_row8_col4\" class=\"data row8 col4\" >nan</td>\n",
       "      <td id=\"T_50a29_row8_col5\" class=\"data row8 col5\" >nan</td>\n",
       "      <td id=\"T_50a29_row8_col6\" class=\"data row8 col6\" >nan</td>\n",
       "      <td id=\"T_50a29_row8_col7\" class=\"data row8 col7\" >nan</td>\n",
       "      <td id=\"T_50a29_row8_col8\" class=\"data row8 col8\" >nan</td>\n",
       "      <td id=\"T_50a29_row8_col9\" class=\"data row8 col9\" >nan</td>\n",
       "      <td id=\"T_50a29_row8_col10\" class=\"data row8 col10\" >nan</td>\n",
       "      <td id=\"T_50a29_row8_col11\" class=\"data row8 col11\" >nan</td>\n",
       "      <td id=\"T_50a29_row8_col12\" class=\"data row8 col12\" >nan</td>\n",
       "      <td id=\"T_50a29_row8_col13\" class=\"data row8 col13\" >nan</td>\n",
       "      <td id=\"T_50a29_row8_col14\" class=\"data row8 col14\" >nan</td>\n",
       "      <td id=\"T_50a29_row8_col15\" class=\"data row8 col15\" >nan</td>\n",
       "      <td id=\"T_50a29_row8_col16\" class=\"data row8 col16\" >nan</td>\n",
       "      <td id=\"T_50a29_row8_col17\" class=\"data row8 col17\" >nan</td>\n",
       "      <td id=\"T_50a29_row8_col18\" class=\"data row8 col18\" >nan</td>\n",
       "      <td id=\"T_50a29_row8_col19\" class=\"data row8 col19\" >nan</td>\n",
       "      <td id=\"T_50a29_row8_col20\" class=\"data row8 col20\" >nan</td>\n",
       "      <td id=\"T_50a29_row8_col21\" class=\"data row8 col21\" >nan</td>\n",
       "      <td id=\"T_50a29_row8_col22\" class=\"data row8 col22\" >222.0</td>\n",
       "      <td id=\"T_50a29_row8_col23\" class=\"data row8 col23\" >nan</td>\n",
       "      <td id=\"T_50a29_row8_col24\" class=\"data row8 col24\" >nan</td>\n",
       "    </tr>\n",
       "  </tbody>\n",
       "</table>\n"
      ],
      "text/plain": [
       "<pandas.io.formats.style.Styler at 0x1f2958337f0>"
      ]
     },
     "metadata": {},
     "output_type": "display_data"
    },
    {
     "data": {
      "application/vnd.plotly.v1+json": {
       "config": {
        "linkText": "Export to plot.ly",
        "plotlyServerURL": "https://plot.ly",
        "showLink": false
       },
       "data": [
        {
         "colorbar": {
          "len": 250,
          "lenmode": "pixels",
          "title": {
           "text": "€/MWh"
          }
         },
         "colorscale": [
          [
           0,
           "#000004"
          ],
          [
           0.1111111111111111,
           "#180f3d"
          ],
          [
           0.2222222222222222,
           "#440f76"
          ],
          [
           0.3333333333333333,
           "#721f81"
          ],
          [
           0.4444444444444444,
           "#9e2f7f"
          ],
          [
           0.5555555555555556,
           "#cd4071"
          ],
          [
           0.6666666666666666,
           "#f1605d"
          ],
          [
           0.7777777777777778,
           "#fd9668"
          ],
          [
           0.8888888888888888,
           "#feca8d"
          ],
          [
           1,
           "#fcfdbf"
          ]
         ],
         "locationmode": "country names",
         "locations": [
          "Spain",
          "France",
          "Germany",
          "Italy",
          "Netherlands",
          "Poland",
          "Belgium",
          "Hungary",
          "Czech Republic",
          "Croatia",
          "Finland",
          "Greece",
          "Norway",
          "Portugal",
          "Sweden",
          "Austria",
          "Denmark",
          "Estonia",
          "Lithuania",
          "Latvia",
          "Bulgaria",
          "Romania",
          "Serbia",
          "Slovakia",
          "Slovenia"
         ],
         "text": [
          "Spain",
          "France",
          "Germany",
          "Italy",
          "Netherlands",
          "Poland",
          "Belgium",
          "Hungary",
          "Czech Republic",
          "Croatia",
          "Finland",
          "Greece",
          "Norway",
          "Portugal",
          "Sweden",
          "Austria",
          "Denmark",
          "Estonia",
          "Lithuania",
          "Latvia",
          "Bulgaria",
          "Romania",
          "Serbia",
          "Slovakia",
          "Slovenia"
         ],
         "type": "choropleth",
         "z": [
          null,
          null,
          null,
          null,
          null,
          null,
          null,
          null,
          null,
          null,
          null,
          null,
          null,
          null,
          null,
          null,
          null,
          null,
          null,
          null,
          null,
          null,
          222.02791666666667,
          null,
          null
         ]
        }
       ],
       "layout": {
        "geo": {
         "scope": "europe"
        },
        "height": 750,
        "margin": {
         "b": 1,
         "l": 1,
         "r": 1,
         "t": 50
        },
        "template": {
         "data": {
          "bar": [
           {
            "error_x": {
             "color": "#2a3f5f"
            },
            "error_y": {
             "color": "#2a3f5f"
            },
            "marker": {
             "line": {
              "color": "#E5ECF6",
              "width": 0.5
             }
            },
            "type": "bar"
           }
          ],
          "barpolar": [
           {
            "marker": {
             "line": {
              "color": "#E5ECF6",
              "width": 0.5
             }
            },
            "type": "barpolar"
           }
          ],
          "carpet": [
           {
            "aaxis": {
             "endlinecolor": "#2a3f5f",
             "gridcolor": "white",
             "linecolor": "white",
             "minorgridcolor": "white",
             "startlinecolor": "#2a3f5f"
            },
            "baxis": {
             "endlinecolor": "#2a3f5f",
             "gridcolor": "white",
             "linecolor": "white",
             "minorgridcolor": "white",
             "startlinecolor": "#2a3f5f"
            },
            "type": "carpet"
           }
          ],
          "choropleth": [
           {
            "colorbar": {
             "outlinewidth": 0,
             "ticks": ""
            },
            "type": "choropleth"
           }
          ],
          "contour": [
           {
            "colorbar": {
             "outlinewidth": 0,
             "ticks": ""
            },
            "colorscale": [
             [
              0,
              "#0d0887"
             ],
             [
              0.1111111111111111,
              "#46039f"
             ],
             [
              0.2222222222222222,
              "#7201a8"
             ],
             [
              0.3333333333333333,
              "#9c179e"
             ],
             [
              0.4444444444444444,
              "#bd3786"
             ],
             [
              0.5555555555555556,
              "#d8576b"
             ],
             [
              0.6666666666666666,
              "#ed7953"
             ],
             [
              0.7777777777777778,
              "#fb9f3a"
             ],
             [
              0.8888888888888888,
              "#fdca26"
             ],
             [
              1,
              "#f0f921"
             ]
            ],
            "type": "contour"
           }
          ],
          "contourcarpet": [
           {
            "colorbar": {
             "outlinewidth": 0,
             "ticks": ""
            },
            "type": "contourcarpet"
           }
          ],
          "heatmap": [
           {
            "colorbar": {
             "outlinewidth": 0,
             "ticks": ""
            },
            "colorscale": [
             [
              0,
              "#0d0887"
             ],
             [
              0.1111111111111111,
              "#46039f"
             ],
             [
              0.2222222222222222,
              "#7201a8"
             ],
             [
              0.3333333333333333,
              "#9c179e"
             ],
             [
              0.4444444444444444,
              "#bd3786"
             ],
             [
              0.5555555555555556,
              "#d8576b"
             ],
             [
              0.6666666666666666,
              "#ed7953"
             ],
             [
              0.7777777777777778,
              "#fb9f3a"
             ],
             [
              0.8888888888888888,
              "#fdca26"
             ],
             [
              1,
              "#f0f921"
             ]
            ],
            "type": "heatmap"
           }
          ],
          "heatmapgl": [
           {
            "colorbar": {
             "outlinewidth": 0,
             "ticks": ""
            },
            "colorscale": [
             [
              0,
              "#0d0887"
             ],
             [
              0.1111111111111111,
              "#46039f"
             ],
             [
              0.2222222222222222,
              "#7201a8"
             ],
             [
              0.3333333333333333,
              "#9c179e"
             ],
             [
              0.4444444444444444,
              "#bd3786"
             ],
             [
              0.5555555555555556,
              "#d8576b"
             ],
             [
              0.6666666666666666,
              "#ed7953"
             ],
             [
              0.7777777777777778,
              "#fb9f3a"
             ],
             [
              0.8888888888888888,
              "#fdca26"
             ],
             [
              1,
              "#f0f921"
             ]
            ],
            "type": "heatmapgl"
           }
          ],
          "histogram": [
           {
            "marker": {
             "colorbar": {
              "outlinewidth": 0,
              "ticks": ""
             }
            },
            "type": "histogram"
           }
          ],
          "histogram2d": [
           {
            "colorbar": {
             "outlinewidth": 0,
             "ticks": ""
            },
            "colorscale": [
             [
              0,
              "#0d0887"
             ],
             [
              0.1111111111111111,
              "#46039f"
             ],
             [
              0.2222222222222222,
              "#7201a8"
             ],
             [
              0.3333333333333333,
              "#9c179e"
             ],
             [
              0.4444444444444444,
              "#bd3786"
             ],
             [
              0.5555555555555556,
              "#d8576b"
             ],
             [
              0.6666666666666666,
              "#ed7953"
             ],
             [
              0.7777777777777778,
              "#fb9f3a"
             ],
             [
              0.8888888888888888,
              "#fdca26"
             ],
             [
              1,
              "#f0f921"
             ]
            ],
            "type": "histogram2d"
           }
          ],
          "histogram2dcontour": [
           {
            "colorbar": {
             "outlinewidth": 0,
             "ticks": ""
            },
            "colorscale": [
             [
              0,
              "#0d0887"
             ],
             [
              0.1111111111111111,
              "#46039f"
             ],
             [
              0.2222222222222222,
              "#7201a8"
             ],
             [
              0.3333333333333333,
              "#9c179e"
             ],
             [
              0.4444444444444444,
              "#bd3786"
             ],
             [
              0.5555555555555556,
              "#d8576b"
             ],
             [
              0.6666666666666666,
              "#ed7953"
             ],
             [
              0.7777777777777778,
              "#fb9f3a"
             ],
             [
              0.8888888888888888,
              "#fdca26"
             ],
             [
              1,
              "#f0f921"
             ]
            ],
            "type": "histogram2dcontour"
           }
          ],
          "mesh3d": [
           {
            "colorbar": {
             "outlinewidth": 0,
             "ticks": ""
            },
            "type": "mesh3d"
           }
          ],
          "parcoords": [
           {
            "line": {
             "colorbar": {
              "outlinewidth": 0,
              "ticks": ""
             }
            },
            "type": "parcoords"
           }
          ],
          "pie": [
           {
            "automargin": true,
            "type": "pie"
           }
          ],
          "scatter": [
           {
            "marker": {
             "colorbar": {
              "outlinewidth": 0,
              "ticks": ""
             }
            },
            "type": "scatter"
           }
          ],
          "scatter3d": [
           {
            "line": {
             "colorbar": {
              "outlinewidth": 0,
              "ticks": ""
             }
            },
            "marker": {
             "colorbar": {
              "outlinewidth": 0,
              "ticks": ""
             }
            },
            "type": "scatter3d"
           }
          ],
          "scattercarpet": [
           {
            "marker": {
             "colorbar": {
              "outlinewidth": 0,
              "ticks": ""
             }
            },
            "type": "scattercarpet"
           }
          ],
          "scattergeo": [
           {
            "marker": {
             "colorbar": {
              "outlinewidth": 0,
              "ticks": ""
             }
            },
            "type": "scattergeo"
           }
          ],
          "scattergl": [
           {
            "marker": {
             "colorbar": {
              "outlinewidth": 0,
              "ticks": ""
             }
            },
            "type": "scattergl"
           }
          ],
          "scattermapbox": [
           {
            "marker": {
             "colorbar": {
              "outlinewidth": 0,
              "ticks": ""
             }
            },
            "type": "scattermapbox"
           }
          ],
          "scatterpolar": [
           {
            "marker": {
             "colorbar": {
              "outlinewidth": 0,
              "ticks": ""
             }
            },
            "type": "scatterpolar"
           }
          ],
          "scatterpolargl": [
           {
            "marker": {
             "colorbar": {
              "outlinewidth": 0,
              "ticks": ""
             }
            },
            "type": "scatterpolargl"
           }
          ],
          "scatterternary": [
           {
            "marker": {
             "colorbar": {
              "outlinewidth": 0,
              "ticks": ""
             }
            },
            "type": "scatterternary"
           }
          ],
          "surface": [
           {
            "colorbar": {
             "outlinewidth": 0,
             "ticks": ""
            },
            "colorscale": [
             [
              0,
              "#0d0887"
             ],
             [
              0.1111111111111111,
              "#46039f"
             ],
             [
              0.2222222222222222,
              "#7201a8"
             ],
             [
              0.3333333333333333,
              "#9c179e"
             ],
             [
              0.4444444444444444,
              "#bd3786"
             ],
             [
              0.5555555555555556,
              "#d8576b"
             ],
             [
              0.6666666666666666,
              "#ed7953"
             ],
             [
              0.7777777777777778,
              "#fb9f3a"
             ],
             [
              0.8888888888888888,
              "#fdca26"
             ],
             [
              1,
              "#f0f921"
             ]
            ],
            "type": "surface"
           }
          ],
          "table": [
           {
            "cells": {
             "fill": {
              "color": "#EBF0F8"
             },
             "line": {
              "color": "white"
             }
            },
            "header": {
             "fill": {
              "color": "#C8D4E3"
             },
             "line": {
              "color": "white"
             }
            },
            "type": "table"
           }
          ]
         },
         "layout": {
          "annotationdefaults": {
           "arrowcolor": "#2a3f5f",
           "arrowhead": 0,
           "arrowwidth": 1
          },
          "autotypenumbers": "strict",
          "coloraxis": {
           "colorbar": {
            "outlinewidth": 0,
            "ticks": ""
           }
          },
          "colorscale": {
           "diverging": [
            [
             0,
             "#8e0152"
            ],
            [
             0.1,
             "#c51b7d"
            ],
            [
             0.2,
             "#de77ae"
            ],
            [
             0.3,
             "#f1b6da"
            ],
            [
             0.4,
             "#fde0ef"
            ],
            [
             0.5,
             "#f7f7f7"
            ],
            [
             0.6,
             "#e6f5d0"
            ],
            [
             0.7,
             "#b8e186"
            ],
            [
             0.8,
             "#7fbc41"
            ],
            [
             0.9,
             "#4d9221"
            ],
            [
             1,
             "#276419"
            ]
           ],
           "sequential": [
            [
             0,
             "#0d0887"
            ],
            [
             0.1111111111111111,
             "#46039f"
            ],
            [
             0.2222222222222222,
             "#7201a8"
            ],
            [
             0.3333333333333333,
             "#9c179e"
            ],
            [
             0.4444444444444444,
             "#bd3786"
            ],
            [
             0.5555555555555556,
             "#d8576b"
            ],
            [
             0.6666666666666666,
             "#ed7953"
            ],
            [
             0.7777777777777778,
             "#fb9f3a"
            ],
            [
             0.8888888888888888,
             "#fdca26"
            ],
            [
             1,
             "#f0f921"
            ]
           ],
           "sequentialminus": [
            [
             0,
             "#0d0887"
            ],
            [
             0.1111111111111111,
             "#46039f"
            ],
            [
             0.2222222222222222,
             "#7201a8"
            ],
            [
             0.3333333333333333,
             "#9c179e"
            ],
            [
             0.4444444444444444,
             "#bd3786"
            ],
            [
             0.5555555555555556,
             "#d8576b"
            ],
            [
             0.6666666666666666,
             "#ed7953"
            ],
            [
             0.7777777777777778,
             "#fb9f3a"
            ],
            [
             0.8888888888888888,
             "#fdca26"
            ],
            [
             1,
             "#f0f921"
            ]
           ]
          },
          "colorway": [
           "#636efa",
           "#EF553B",
           "#00cc96",
           "#ab63fa",
           "#FFA15A",
           "#19d3f3",
           "#FF6692",
           "#B6E880",
           "#FF97FF",
           "#FECB52"
          ],
          "font": {
           "color": "#2a3f5f"
          },
          "geo": {
           "bgcolor": "white",
           "lakecolor": "white",
           "landcolor": "#E5ECF6",
           "showlakes": true,
           "showland": true,
           "subunitcolor": "white"
          },
          "hoverlabel": {
           "align": "left"
          },
          "hovermode": "closest",
          "mapbox": {
           "style": "light"
          },
          "paper_bgcolor": "white",
          "plot_bgcolor": "#E5ECF6",
          "polar": {
           "angularaxis": {
            "gridcolor": "white",
            "linecolor": "white",
            "ticks": ""
           },
           "bgcolor": "#E5ECF6",
           "radialaxis": {
            "gridcolor": "white",
            "linecolor": "white",
            "ticks": ""
           }
          },
          "scene": {
           "xaxis": {
            "backgroundcolor": "#E5ECF6",
            "gridcolor": "white",
            "gridwidth": 2,
            "linecolor": "white",
            "showbackground": true,
            "ticks": "",
            "zerolinecolor": "white"
           },
           "yaxis": {
            "backgroundcolor": "#E5ECF6",
            "gridcolor": "white",
            "gridwidth": 2,
            "linecolor": "white",
            "showbackground": true,
            "ticks": "",
            "zerolinecolor": "white"
           },
           "zaxis": {
            "backgroundcolor": "#E5ECF6",
            "gridcolor": "white",
            "gridwidth": 2,
            "linecolor": "white",
            "showbackground": true,
            "ticks": "",
            "zerolinecolor": "white"
           }
          },
          "shapedefaults": {
           "line": {
            "color": "#2a3f5f"
           }
          },
          "ternary": {
           "aaxis": {
            "gridcolor": "white",
            "linecolor": "white",
            "ticks": ""
           },
           "baxis": {
            "gridcolor": "white",
            "linecolor": "white",
            "ticks": ""
           },
           "bgcolor": "#E5ECF6",
           "caxis": {
            "gridcolor": "white",
            "linecolor": "white",
            "ticks": ""
           }
          },
          "title": {
           "x": 0.05
          },
          "xaxis": {
           "automargin": true,
           "gridcolor": "white",
           "linecolor": "white",
           "ticks": "",
           "title": {
            "standoff": 15
           },
           "zerolinecolor": "white",
           "zerolinewidth": 2
          },
          "yaxis": {
           "automargin": true,
           "gridcolor": "white",
           "linecolor": "white",
           "ticks": "",
           "title": {
            "standoff": 15
           },
           "zerolinecolor": "white",
           "zerolinewidth": 2
          }
         }
        },
        "title": {
         "text": "Daily Power Prices as of 12/04/2022"
        },
        "width": 750
       }
      },
      "text/html": [
       "<div>                            <div id=\"225a648a-fead-4241-92df-ee220864b50a\" class=\"plotly-graph-div\" style=\"height:750px; width:750px;\"></div>            <script type=\"text/javascript\">                require([\"plotly\"], function(Plotly) {                    window.PLOTLYENV=window.PLOTLYENV || {};                                    if (document.getElementById(\"225a648a-fead-4241-92df-ee220864b50a\")) {                    Plotly.newPlot(                        \"225a648a-fead-4241-92df-ee220864b50a\",                        [{\"colorbar\": {\"len\": 250, \"lenmode\": \"pixels\", \"title\": {\"text\": \"\\u20ac/MWh\"}}, \"colorscale\": [[0.0, \"#000004\"], [0.1111111111111111, \"#180f3d\"], [0.2222222222222222, \"#440f76\"], [0.3333333333333333, \"#721f81\"], [0.4444444444444444, \"#9e2f7f\"], [0.5555555555555556, \"#cd4071\"], [0.6666666666666666, \"#f1605d\"], [0.7777777777777778, \"#fd9668\"], [0.8888888888888888, \"#feca8d\"], [1.0, \"#fcfdbf\"]], \"locationmode\": \"country names\", \"locations\": [\"Spain\", \"France\", \"Germany\", \"Italy\", \"Netherlands\", \"Poland\", \"Belgium\", \"Hungary\", \"Czech Republic\", \"Croatia\", \"Finland\", \"Greece\", \"Norway\", \"Portugal\", \"Sweden\", \"Austria\", \"Denmark\", \"Estonia\", \"Lithuania\", \"Latvia\", \"Bulgaria\", \"Romania\", \"Serbia\", \"Slovakia\", \"Slovenia\"], \"text\": [\"Spain\", \"France\", \"Germany\", \"Italy\", \"Netherlands\", \"Poland\", \"Belgium\", \"Hungary\", \"Czech Republic\", \"Croatia\", \"Finland\", \"Greece\", \"Norway\", \"Portugal\", \"Sweden\", \"Austria\", \"Denmark\", \"Estonia\", \"Lithuania\", \"Latvia\", \"Bulgaria\", \"Romania\", \"Serbia\", \"Slovakia\", \"Slovenia\"], \"type\": \"choropleth\", \"z\": [null, null, null, null, null, null, null, null, null, null, null, null, null, null, null, null, null, null, null, null, null, null, 222.02791666666667, null, null]}],                        {\"geo\": {\"scope\": \"europe\"}, \"height\": 750, \"margin\": {\"b\": 1, \"l\": 1, \"r\": 1, \"t\": 50}, \"template\": {\"data\": {\"bar\": [{\"error_x\": {\"color\": \"#2a3f5f\"}, \"error_y\": {\"color\": \"#2a3f5f\"}, \"marker\": {\"line\": {\"color\": \"#E5ECF6\", \"width\": 0.5}}, \"type\": \"bar\"}], \"barpolar\": [{\"marker\": {\"line\": {\"color\": \"#E5ECF6\", \"width\": 0.5}}, \"type\": \"barpolar\"}], \"carpet\": [{\"aaxis\": {\"endlinecolor\": \"#2a3f5f\", \"gridcolor\": \"white\", \"linecolor\": \"white\", \"minorgridcolor\": \"white\", \"startlinecolor\": \"#2a3f5f\"}, \"baxis\": {\"endlinecolor\": \"#2a3f5f\", \"gridcolor\": \"white\", \"linecolor\": \"white\", \"minorgridcolor\": \"white\", \"startlinecolor\": \"#2a3f5f\"}, \"type\": \"carpet\"}], \"choropleth\": [{\"colorbar\": {\"outlinewidth\": 0, \"ticks\": \"\"}, \"type\": \"choropleth\"}], \"contour\": [{\"colorbar\": {\"outlinewidth\": 0, \"ticks\": \"\"}, \"colorscale\": [[0.0, \"#0d0887\"], [0.1111111111111111, \"#46039f\"], [0.2222222222222222, \"#7201a8\"], [0.3333333333333333, \"#9c179e\"], [0.4444444444444444, \"#bd3786\"], [0.5555555555555556, \"#d8576b\"], [0.6666666666666666, \"#ed7953\"], [0.7777777777777778, \"#fb9f3a\"], [0.8888888888888888, \"#fdca26\"], [1.0, \"#f0f921\"]], \"type\": \"contour\"}], \"contourcarpet\": [{\"colorbar\": {\"outlinewidth\": 0, \"ticks\": \"\"}, \"type\": \"contourcarpet\"}], \"heatmap\": [{\"colorbar\": {\"outlinewidth\": 0, \"ticks\": \"\"}, \"colorscale\": [[0.0, \"#0d0887\"], [0.1111111111111111, \"#46039f\"], [0.2222222222222222, \"#7201a8\"], [0.3333333333333333, \"#9c179e\"], [0.4444444444444444, \"#bd3786\"], [0.5555555555555556, \"#d8576b\"], [0.6666666666666666, \"#ed7953\"], [0.7777777777777778, \"#fb9f3a\"], [0.8888888888888888, \"#fdca26\"], [1.0, \"#f0f921\"]], \"type\": \"heatmap\"}], \"heatmapgl\": [{\"colorbar\": {\"outlinewidth\": 0, \"ticks\": \"\"}, \"colorscale\": [[0.0, \"#0d0887\"], [0.1111111111111111, \"#46039f\"], [0.2222222222222222, \"#7201a8\"], [0.3333333333333333, \"#9c179e\"], [0.4444444444444444, \"#bd3786\"], [0.5555555555555556, \"#d8576b\"], [0.6666666666666666, \"#ed7953\"], [0.7777777777777778, \"#fb9f3a\"], [0.8888888888888888, \"#fdca26\"], [1.0, \"#f0f921\"]], \"type\": \"heatmapgl\"}], \"histogram\": [{\"marker\": {\"colorbar\": {\"outlinewidth\": 0, \"ticks\": \"\"}}, \"type\": \"histogram\"}], \"histogram2d\": [{\"colorbar\": {\"outlinewidth\": 0, \"ticks\": \"\"}, \"colorscale\": [[0.0, \"#0d0887\"], [0.1111111111111111, \"#46039f\"], [0.2222222222222222, \"#7201a8\"], [0.3333333333333333, \"#9c179e\"], [0.4444444444444444, \"#bd3786\"], [0.5555555555555556, \"#d8576b\"], [0.6666666666666666, \"#ed7953\"], [0.7777777777777778, \"#fb9f3a\"], [0.8888888888888888, \"#fdca26\"], [1.0, \"#f0f921\"]], \"type\": \"histogram2d\"}], \"histogram2dcontour\": [{\"colorbar\": {\"outlinewidth\": 0, \"ticks\": \"\"}, \"colorscale\": [[0.0, \"#0d0887\"], [0.1111111111111111, \"#46039f\"], [0.2222222222222222, \"#7201a8\"], [0.3333333333333333, \"#9c179e\"], [0.4444444444444444, \"#bd3786\"], [0.5555555555555556, \"#d8576b\"], [0.6666666666666666, \"#ed7953\"], [0.7777777777777778, \"#fb9f3a\"], [0.8888888888888888, \"#fdca26\"], [1.0, \"#f0f921\"]], \"type\": \"histogram2dcontour\"}], \"mesh3d\": [{\"colorbar\": {\"outlinewidth\": 0, \"ticks\": \"\"}, \"type\": \"mesh3d\"}], \"parcoords\": [{\"line\": {\"colorbar\": {\"outlinewidth\": 0, \"ticks\": \"\"}}, \"type\": \"parcoords\"}], \"pie\": [{\"automargin\": true, \"type\": \"pie\"}], \"scatter\": [{\"marker\": {\"colorbar\": {\"outlinewidth\": 0, \"ticks\": \"\"}}, \"type\": \"scatter\"}], \"scatter3d\": [{\"line\": {\"colorbar\": {\"outlinewidth\": 0, \"ticks\": \"\"}}, \"marker\": {\"colorbar\": {\"outlinewidth\": 0, \"ticks\": \"\"}}, \"type\": \"scatter3d\"}], \"scattercarpet\": [{\"marker\": {\"colorbar\": {\"outlinewidth\": 0, \"ticks\": \"\"}}, \"type\": \"scattercarpet\"}], \"scattergeo\": [{\"marker\": {\"colorbar\": {\"outlinewidth\": 0, \"ticks\": \"\"}}, \"type\": \"scattergeo\"}], \"scattergl\": [{\"marker\": {\"colorbar\": {\"outlinewidth\": 0, \"ticks\": \"\"}}, \"type\": \"scattergl\"}], \"scattermapbox\": [{\"marker\": {\"colorbar\": {\"outlinewidth\": 0, \"ticks\": \"\"}}, \"type\": \"scattermapbox\"}], \"scatterpolar\": [{\"marker\": {\"colorbar\": {\"outlinewidth\": 0, \"ticks\": \"\"}}, \"type\": \"scatterpolar\"}], \"scatterpolargl\": [{\"marker\": {\"colorbar\": {\"outlinewidth\": 0, \"ticks\": \"\"}}, \"type\": \"scatterpolargl\"}], \"scatterternary\": [{\"marker\": {\"colorbar\": {\"outlinewidth\": 0, \"ticks\": \"\"}}, \"type\": \"scatterternary\"}], \"surface\": [{\"colorbar\": {\"outlinewidth\": 0, \"ticks\": \"\"}, \"colorscale\": [[0.0, \"#0d0887\"], [0.1111111111111111, \"#46039f\"], [0.2222222222222222, \"#7201a8\"], [0.3333333333333333, \"#9c179e\"], [0.4444444444444444, \"#bd3786\"], [0.5555555555555556, \"#d8576b\"], [0.6666666666666666, \"#ed7953\"], [0.7777777777777778, \"#fb9f3a\"], [0.8888888888888888, \"#fdca26\"], [1.0, \"#f0f921\"]], \"type\": \"surface\"}], \"table\": [{\"cells\": {\"fill\": {\"color\": \"#EBF0F8\"}, \"line\": {\"color\": \"white\"}}, \"header\": {\"fill\": {\"color\": \"#C8D4E3\"}, \"line\": {\"color\": \"white\"}}, \"type\": \"table\"}]}, \"layout\": {\"annotationdefaults\": {\"arrowcolor\": \"#2a3f5f\", \"arrowhead\": 0, \"arrowwidth\": 1}, \"autotypenumbers\": \"strict\", \"coloraxis\": {\"colorbar\": {\"outlinewidth\": 0, \"ticks\": \"\"}}, \"colorscale\": {\"diverging\": [[0, \"#8e0152\"], [0.1, \"#c51b7d\"], [0.2, \"#de77ae\"], [0.3, \"#f1b6da\"], [0.4, \"#fde0ef\"], [0.5, \"#f7f7f7\"], [0.6, \"#e6f5d0\"], [0.7, \"#b8e186\"], [0.8, \"#7fbc41\"], [0.9, \"#4d9221\"], [1, \"#276419\"]], \"sequential\": [[0.0, \"#0d0887\"], [0.1111111111111111, \"#46039f\"], [0.2222222222222222, \"#7201a8\"], [0.3333333333333333, \"#9c179e\"], [0.4444444444444444, \"#bd3786\"], [0.5555555555555556, \"#d8576b\"], [0.6666666666666666, \"#ed7953\"], [0.7777777777777778, \"#fb9f3a\"], [0.8888888888888888, \"#fdca26\"], [1.0, \"#f0f921\"]], \"sequentialminus\": [[0.0, \"#0d0887\"], [0.1111111111111111, \"#46039f\"], [0.2222222222222222, \"#7201a8\"], [0.3333333333333333, \"#9c179e\"], [0.4444444444444444, \"#bd3786\"], [0.5555555555555556, \"#d8576b\"], [0.6666666666666666, \"#ed7953\"], [0.7777777777777778, \"#fb9f3a\"], [0.8888888888888888, \"#fdca26\"], [1.0, \"#f0f921\"]]}, \"colorway\": [\"#636efa\", \"#EF553B\", \"#00cc96\", \"#ab63fa\", \"#FFA15A\", \"#19d3f3\", \"#FF6692\", \"#B6E880\", \"#FF97FF\", \"#FECB52\"], \"font\": {\"color\": \"#2a3f5f\"}, \"geo\": {\"bgcolor\": \"white\", \"lakecolor\": \"white\", \"landcolor\": \"#E5ECF6\", \"showlakes\": true, \"showland\": true, \"subunitcolor\": \"white\"}, \"hoverlabel\": {\"align\": \"left\"}, \"hovermode\": \"closest\", \"mapbox\": {\"style\": \"light\"}, \"paper_bgcolor\": \"white\", \"plot_bgcolor\": \"#E5ECF6\", \"polar\": {\"angularaxis\": {\"gridcolor\": \"white\", \"linecolor\": \"white\", \"ticks\": \"\"}, \"bgcolor\": \"#E5ECF6\", \"radialaxis\": {\"gridcolor\": \"white\", \"linecolor\": \"white\", \"ticks\": \"\"}}, \"scene\": {\"xaxis\": {\"backgroundcolor\": \"#E5ECF6\", \"gridcolor\": \"white\", \"gridwidth\": 2, \"linecolor\": \"white\", \"showbackground\": true, \"ticks\": \"\", \"zerolinecolor\": \"white\"}, \"yaxis\": {\"backgroundcolor\": \"#E5ECF6\", \"gridcolor\": \"white\", \"gridwidth\": 2, \"linecolor\": \"white\", \"showbackground\": true, \"ticks\": \"\", \"zerolinecolor\": \"white\"}, \"zaxis\": {\"backgroundcolor\": \"#E5ECF6\", \"gridcolor\": \"white\", \"gridwidth\": 2, \"linecolor\": \"white\", \"showbackground\": true, \"ticks\": \"\", \"zerolinecolor\": \"white\"}}, \"shapedefaults\": {\"line\": {\"color\": \"#2a3f5f\"}}, \"ternary\": {\"aaxis\": {\"gridcolor\": \"white\", \"linecolor\": \"white\", \"ticks\": \"\"}, \"baxis\": {\"gridcolor\": \"white\", \"linecolor\": \"white\", \"ticks\": \"\"}, \"bgcolor\": \"#E5ECF6\", \"caxis\": {\"gridcolor\": \"white\", \"linecolor\": \"white\", \"ticks\": \"\"}}, \"title\": {\"x\": 0.05}, \"xaxis\": {\"automargin\": true, \"gridcolor\": \"white\", \"linecolor\": \"white\", \"ticks\": \"\", \"title\": {\"standoff\": 15}, \"zerolinecolor\": \"white\", \"zerolinewidth\": 2}, \"yaxis\": {\"automargin\": true, \"gridcolor\": \"white\", \"linecolor\": \"white\", \"ticks\": \"\", \"title\": {\"standoff\": 15}, \"zerolinecolor\": \"white\", \"zerolinewidth\": 2}}}, \"title\": {\"text\": \"Daily Power Prices as of 12/04/2022\"}, \"width\": 750},                        {\"responsive\": true}                    ).then(function(){\n",
       "                            \n",
       "var gd = document.getElementById('225a648a-fead-4241-92df-ee220864b50a');\n",
       "var x = new MutationObserver(function (mutations, observer) {{\n",
       "        var display = window.getComputedStyle(gd).display;\n",
       "        if (!display || display === 'none') {{\n",
       "            console.log([gd, 'removed!']);\n",
       "            Plotly.purge(gd);\n",
       "            observer.disconnect();\n",
       "        }}\n",
       "}});\n",
       "\n",
       "// Listen for the removal of the full notebook cells\n",
       "var notebookContainer = gd.closest('#notebook-container');\n",
       "if (notebookContainer) {{\n",
       "    x.observe(notebookContainer, {childList: true});\n",
       "}}\n",
       "\n",
       "// Listen for the clearing of the current output cell\n",
       "var outputEl = gd.closest('.output');\n",
       "if (outputEl) {{\n",
       "    x.observe(outputEl, {childList: true});\n",
       "}}\n",
       "\n",
       "                        })                };                });            </script>        </div>"
      ]
     },
     "metadata": {},
     "output_type": "display_data"
    },
    {
     "data": {
      "text/plain": [
       "None"
      ]
     },
     "metadata": {},
     "output_type": "display_data"
    },
    {
     "name": "stdout",
     "output_type": "stream",
     "text": [
      "Email sent\n"
     ]
    }
   ],
   "source": [
    "\n",
    "# %%\n",
    "\n",

    "import imghdr\n",
    "from IPython.display import display_html\n",
    "import os\n",
    "import plotly.graph_objects as go\n",
    "import dataframe_image as dfi\n",
    "\n",
    "from urllib.request import urlopen\n",
    "import plotly.express as px\n",
    "import entsoe\n",
    "from entsoe import EntsoePandasClient\n",
    "import pandas as pd\n",
    "from pandas import json_normalize\n",
    "import pandas as pd\n",
    "from datetime import timedelta, date\n",
    "import datetime as dt\n",
    "import time\n",
    "from plotly.graph_objs import layout\n",
    "import pytz\n",
    "from folium import plugins\n",
    "import smtplib\n",
    "import plotly\n",
    "import html\n",
    "import mimetypes\n",
    "\n",
    "from pathlib import Path\n",
    "import pandas as pd\n",
    "import numpy as np\n",
    "import seaborn as sns\n",
    "from IPython.display import display, HTML\n",
    "import smtplib\n",
    "\n",
    "import plotly.graph_objs as gobj\n",
    "import pandas as pd\n",
    "from plotly.offline import download_plotlyjs, init_notebook_mode, plot, iplot\n",
    "init_notebook_mode(connected=True)\n",
    "\n",
    "pd.options.plotting.backend = \"plotly\"\n",
    "pd.set_option('precision', 1)\n",
    "\n",
    "# %%\n",
    "client = EntsoePandasClient(api_key='31a5379a-3e8c-4309-81ba-00e14636b8fb')\n",
    "\n",
    "country_codes_list = ['ES', 'FR', 'DE_LU', 'IT_CNOR', 'NL', 'PL', 'BE', 'HU', 'CZ', 'HR', 'FI',\n",
    "                      'GR', 'NO_1', 'PT', 'SE_4', 'AT', 'DK_1', 'EE', 'LT', 'LV', 'BG', 'RO', 'RS', 'SK', 'SI']\n",
    "\n",
    "type_marketagreement_type = 'A01'\n",
    "contract_marketagreement_type = 'A01'\n",
    "\n",
    "start = pd.Timestamp(dt.datetime.now()+timedelta(days=-7),\n",
    "                     tz='Europe/Brussels')\n",
    "startdate = start.replace(hour=00, minute=00, second=0, microsecond=0)\n",
    "\n",
    "end = pd.Timestamp(dt.datetime.now()+timedelta(days=1), tz='Europe/Brussels')\n",
    "enddate = end.replace(hour=23, minute=00, second=0, microsecond=0)\n",
    "\n",
    "df_countries = []\n",
    "for x in country_codes_list:\n",
    "    df = pd.DataFrame(client.query_day_ahead_prices(\n",
    "        country_code=x, start=startdate, end=enddate), columns=[x])\n",
    "    df_countries.append(df)\n",
    "\n",
    "df_countries = pd.concat(df_countries, axis=1)\n",
    "df_countries.index = df_countries.index.tz_convert('Europe/Brussels')\n",
    "df_countries_table = df_countries\n",
    "df_countries = df_countries.rename(columns={'ES': 'Spain', 'FR': 'France', 'DE_LU': 'Germany', 'NL': 'Netherlands', 'PL': 'Poland', 'BE': 'Belgium', 'HU': 'Hungary', 'CZ': 'Czech Republic', 'HR': 'Croatia', 'FI': 'Finland', 'GR': 'Greece', 'NO_1': 'Norway',\n",
    "                                   'PT': 'Portugal', 'SE_4': 'Sweden', 'AT': 'Austria', 'DK_1': 'Denmark', 'IT_CNOR': 'Italy', 'EE': 'Estonia', 'LT': 'Lithuania', 'LV': 'Latvia', 'BG': 'Bulgaria', 'RO': 'Romania', 'RS': 'Serbia', 'SK': 'Slovakia', 'SI': 'Slovenia'})\n",
    "df_daily = df_countries.groupby(df_countries.index.date).mean()\n",
    "df_da = df_daily.tail(1)\n",
    "df_da_map = df_da.T\n",
    "df_da_map = df_da_map.reset_index()\n",
    "df_da_map.columns = ['CountryName', 'da_price']\n",
    "\n",
    "# %%\n",
    "df_countries_table = df_countries_table.groupby(\n",
    "    df_countries_table.index.date).mean()\n",
    "#df_countries_table = df_countries_table.tail(1)\n",
    "#df_countries_table = df_countries_table.iloc[:,:15]\n",
    "\n",
    "# %%\n",
    "enddate = pd.to_datetime(enddate, format='%Y-%m-%d %H:%M', utc=True)\n",
    "enddate = enddate.strftime('%d/%m/%Y')\n",
    "\n",
    "data = dict(type='choropleth',\n",
    "            locations=df_countries.columns,\n",
    "            locationmode='country names',\n",
    "            colorscale='magma',\n",
    "            text=df_da_map['CountryName'],\n",
    "            z=df_da_map['da_price'],\n",
    "            colorbar={'title': '€/MWh', 'len': 250, 'lenmode': 'pixels'},\n",
    "            )\n",
    "\n",
    "layout = dict(geo={'scope': 'europe'})\n",
    "\n",
    "col_map = gobj.Figure(data=[data], layout=layout)\n",
    "\n",
    "col_map.update_layout(height=750, width=750, margin=dict(\n",
    "    l=1, r=1, t=50, b=1), title='Daily Power Prices as of '+str(enddate))\n",
    "\n",
    "\n",
    "cm = sns.color_palette('magma', as_cmap=True)\n",
    "df_countries_table = df_countries_table.style.background_gradient(\n",
    "    cmap=cm, axis=1)\n",
    "#display(iplot(col_map)\n",
    "#col_map.write_image(\"yourfile.png\")\n",
    "col_map.write_image(\"eu_map.png\")\n",
    "dfi.export(df_countries_table, 'eu_table.png')\n",
    "print('Attachments are done')\n",
    "\n",
    "\n",
    "display(df_countries_table)\n",
    "display(iplot(col_map))\n"
   ]
  }
 ],
 "metadata": {
  "interpreter": {
   "hash": "1baa965d5efe3ac65b79dfc60c0d706280b1da80fedb7760faf2759126c4f253"
  },
  "kernelspec": {
   "display_name": "Python 3.8.8 64-bit",
   "language": "python",
   "name": "python3"
  },
  "language_info": {
   "codemirror_mode": {
    "name": "ipython",
    "version": 3
   },
   "file_extension": ".py",
   "mimetype": "text/x-python",
   "name": "python",
   "nbconvert_exporter": "python",
   "pygments_lexer": "ipython3",
   "version": "3.8.8"
  },
  "orig_nbformat": 4
 },
 "nbformat": 4,
 "nbformat_minor": 2
}
